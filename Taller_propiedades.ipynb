{
  "nbformat": 4,
  "nbformat_minor": 0,
  "metadata": {
    "colab": {
      "provenance": [],
      "authorship_tag": "ABX9TyMZ0rC4kKzKtEW6n3jKv3dO",
      "include_colab_link": true
    },
    "kernelspec": {
      "name": "python3",
      "display_name": "Python 3"
    },
    "language_info": {
      "name": "python"
    }
  },
  "cells": [
    {
      "cell_type": "markdown",
      "metadata": {
        "id": "view-in-github",
        "colab_type": "text"
      },
      "source": [
        "<a href=\"https://colab.research.google.com/github/trujoan/Simulacion-de-procesos-Quimica/blob/main/Taller_propiedades.ipynb\" target=\"_parent\"><img src=\"https://colab.research.google.com/assets/colab-badge.svg\" alt=\"Open In Colab\"/></a>"
      ]
    },
    {
      "cell_type": "markdown",
      "source": [
        "pg. 62 Example 3.1 Estimate the critical data of m-xylene using the Joback method. The normal boiling pint is given to be Tb=412.25k\n"
      ],
      "metadata": {
        "id": "WQyxLqVXWCaJ"
      }
    },
    {
      "cell_type": "code",
      "source": [
        "#3.1.   Datos críticos (temperatura crítica, presión crítica y volumen molar crítico) del m-xileno.\n",
        "\n",
        "Tb = 412.25\n",
        "at = 0.0082\n",
        "ap = 0.0011\n",
        "av = 41\n",
        "bt = 0.0143\n",
        "bp = 0.0008\n",
        "bv = 32\n",
        "ct = 0.0141\n",
        "cp = -0.0012\n",
        "cv = 65\n",
        "\n",
        "#la contribución particular se calcula como (s=sumatoria, d=diferencia):\n",
        "sdT = 4*at + 2*bt + 2*ct\n",
        "sdP = 4*ap + 2*bp + 2*cp\n",
        "sdV = 4*av + 2*bv + 2*cv\n",
        "print(\"Las contribuciones particulares son: \", \"\\nT=\", sdT, \"; \\nP=\", sdP, \"; \\nV=\", sdV)\n",
        "\n",
        "#las propiedades criticas corresponden a:\n",
        "Tc = Tb/(0.584 + 0.965*(sdT-(sdT**2)))\n",
        "Pc = (0.113 + 0.0032*18 - sdP)**-2\n",
        "Vc = (17.5 + sdV )\n",
        "print(\"\\nLas propiedades criticas son: \", \"\\nTc=\", Tc, \"K; \\nPc=\", Pc, \"bar; \\nVc=\", Vc, \" m^3/mol\")"
      ],
      "metadata": {
        "id": "d4xlJkg-jhU4",
        "colab": {
          "base_uri": "https://localhost:8080/"
        },
        "outputId": "95791945-4aba-4208-fbae-354e42b1c2f5"
      },
      "execution_count": null,
      "outputs": [
        {
          "output_type": "stream",
          "name": "stdout",
          "text": [
            "Las contribuciones particulares son:  \n",
            "T= 0.0896 ; \n",
            "P= 0.0036000000000000003 ; \n",
            "V= 358\n",
            "\n",
            "Las propiedades criticas son:  \n",
            "Tc= 622.0605605218543 K; \n",
            "Pc= 35.8564308508731 bar; \n",
            "Vc= 375.5  m^3/mol\n"
          ]
        }
      ]
    },
    {
      "cell_type": "markdown",
      "source": [
        "pg 66 Example 3.3 Estimate the normal boiling point of  pentylcyclohexane\n",
        "1) using Joback's method\n",
        "2) using Joback's method with methylcyclohexane as reference substance"
      ],
      "metadata": {
        "id": "6etExcxNVURi"
      }
    },
    {
      "cell_type": "code",
      "source": [
        "#3.3.   Temperatura normal de ebullición del pentilciclohexano.\n",
        "\n",
        "a = 27.15\n",
        "b = 21.78\n",
        "c = 23.58\n",
        "d = 22.88\n",
        "\n",
        "#1)\n",
        "#la contribución particular se calcula como (s=sumatoria, d=diferencia):\n",
        "sdb =5*a + 1*b + 1*c + 4*d\n",
        "print(\"1) \\nLas contribuciones particulares son: \", \"\\nb=\", sdb)\n",
        "\n",
        "#el resultado de la estimación del punto de ebullición normal:\n",
        "Tb = (198 + sdb)\n",
        "print(\"\\nEl punto de ebullición normal es: \", \"\\nTb=\", Tb, \"K\")\n",
        "\n",
        "#2)\n",
        "#referencia methylcyclohexane, la contribución particular se calcula como (s=sumatoria, d=diferencia):\n",
        "Tbm = 373.95\n",
        "sdbm = Tbm - 198\n",
        "print(\"\\n2) \\nLas contribuciones particulares del methycyclohexane son: \", \"\\nb=\", sdbm)\n",
        "\n",
        "#referencia pentylcyclohexane, la contribución particular se calcula como (s=sumatoria, d=diferencia):\n",
        "sdbp = sdbm + 4*d\n",
        "print(\"\\nLas contribuciones particulares del pentylcyclohexane son: \", \"\\nb=\", sdbp)\n",
        "\n",
        "#el resultado de la estimación del punto de ebullición normal:\n",
        "Tbp = (198 + sdbp)\n",
        "print(\"\\nEl punto de ebullición normal es: \", \"\\nTb=\", Tbp, \"K\")"
      ],
      "metadata": {
        "id": "8KQur1z-VmQO",
        "colab": {
          "base_uri": "https://localhost:8080/"
        },
        "outputId": "24637cd4-cfaf-4f71-9920-49c80c23d34b"
      },
      "execution_count": null,
      "outputs": [
        {
          "output_type": "stream",
          "name": "stdout",
          "text": [
            "1) \n",
            "Las contribuciones particulares son:  \n",
            "b= 272.63\n",
            "\n",
            "El punto de ebullición normal es:  \n",
            "Tb= 470.63 K\n",
            "\n",
            "2) \n",
            "Las contribuciones particulares del methycyclohexane son:  \n",
            "b= 175.95\n",
            "\n",
            "Las contribuciones particulares del pentylcyclohexane son:  \n",
            "b= 267.46999999999997\n",
            "\n",
            "El punto de ebullición normal es:  \n",
            "Tb= 465.46999999999997 K\n"
          ]
        }
      ]
    },
    {
      "cell_type": "markdown",
      "source": [
        "pg. 114 Example 3.23 Estimate the dynamic viscosity of ammonia at T = 573.15 K and P = 0.1 MPa. The given values are as follows:\n",
        "\n",
        "Tc = 405.5 K\n",
        "Pc = 113.592 bar\n",
        "Zc = 0.2553\n",
        "u = 1.49 Debye\n",
        "M = 17.031 g/mol"
      ],
      "metadata": {
        "id": "wL6K9ja1Vm-R"
      }
    },
    {
      "cell_type": "code",
      "source": [
        "#3.23. Viscosidad dinámica del amoniaco.\n",
        "\n",
        "T = 573.15\n",
        "P = 0.1\n",
        "Tc = 405.5\n",
        "Pc = 113.592\n",
        "Zc = 0.2553\n",
        "u = 1.49\n",
        "M = 17.031\n",
        "\n",
        "#valores\n",
        "Tr = T/Tc\n",
        "ur = 52.46*(u**2)*Pc*(Tc**-2)\n",
        "epsilon = 0.176*(Tc**(1/6))*(M**(-1/2))*(Pc**(-2/3))\n",
        "F = 1 + 30.55*((0.292 - Zc)**1.72)*abs(0.96 + P * (Tr - 0.7))\n",
        "print(\"Los valores son: \", \"\\nTr=\", Tr,  \"\\nur=\", ur, \"\\nepsilon=\", epsilon, \"\\nF=\", F)"
      ],
      "metadata": {
        "id": "o7to3NQNXlqt",
        "colab": {
          "base_uri": "https://localhost:8080/"
        },
        "outputId": "41b001b1-bd6a-490a-9934-b99fb699562c"
      },
      "execution_count": null,
      "outputs": [
        {
          "output_type": "stream",
          "name": "stdout",
          "text": [
            "Los valores son:  \n",
            "Tr= 1.4134401972872996 \n",
            "ur= 0.08045755895908449 \n",
            "epsilon= 0.004946817695404277 \n",
            "F= 1.1070632443575343\n"
          ]
        }
      ]
    },
    {
      "cell_type": "markdown",
      "source": [
        "pg 128 Example 3.29 Determine the vapor diffusion coefficient of the binary mixture ammonia (NH3) (1) and diethyl ether (C4H10) (2) at T = 288 K and P = 2 bar using the fuller method. The molar masses are M1 = 17.03 g/mol and M2 = 74.12 g/mol"
      ],
      "metadata": {
        "id": "uIMtO1-fZnIr"
      }
    },
    {
      "cell_type": "code",
      "source": [
        "#3.29. Coeficiente de difusión de vapor de la mezcla binaria amoniaco - dietiléter.\n",
        "\n",
        "import math\n",
        "import numpy as np\n",
        "\n",
        "T = 288\n",
        "P = 2\n",
        "M1 = 17.03\n",
        "M2 = 74.12\n",
        "a = 20.7 #NH3\n",
        "b = 15.9 #C\n",
        "c = 2.31 #H\n",
        "d = 6.11 #O\n",
        "\n",
        "#la difusión de volumenes de las dos sustancias son (s=sumatoria, d=diferencia):\n",
        "sdV1 = a\n",
        "sdV2 = 4*b +10*c + d\n",
        "print(\"Los volumenes son: \", \"\\nV1=\", sdV1,  \"\\nV2=\", sdV2)\n",
        "\n",
        "D =(0.00143* 288**(1.75) * (M1**(-1) + M2**(-1))**(1/2)) / (P*math.sqrt(2) * (sdV1**(1/3) + sdV2**(1/3))**2)\n",
        "print(\"Los volumenes son: \", \"\\nD=\", D)"
      ],
      "metadata": {
        "id": "Ax_Bw4HOZzhG",
        "colab": {
          "base_uri": "https://localhost:8080/"
        },
        "outputId": "732bc15c-5407-4f1e-e948-c80ae9163c20"
      },
      "execution_count": null,
      "outputs": [
        {
          "output_type": "stream",
          "name": "stdout",
          "text": [
            "Los volumenes son:  \n",
            "V1= 20.7 \n",
            "V2= 92.81\n",
            "Los volumenes son:  \n",
            "D= 0.051709376762211386\n"
          ]
        }
      ]
    },
    {
      "cell_type": "markdown",
      "source": [
        "pg 131 Example 3.30 Estimate the liquid diffusion coefficient of the mixture benzene (1) and the toluene (2) at T = 298K and x1 = 0,6. The mixture is almost ideal; therefore, the activity coefficient is close to 1. The given values are as follows;\n",
        "v1 = 85.84 cm^3/mol\n",
        "v2 = 118.3 cm^3/mol\n",
        "o1 = 28.2 nN /m\n",
        "o2 = 27.9 nN /m\n",
        "n1 = 0.601 mPa s\n",
        "n2 = 0.553 mPa s"
      ],
      "metadata": {
        "id": "ka7KhXCiZz4i"
      }
    },
    {
      "cell_type": "code",
      "source": [
        "#3.30. Coeficiente de difusión líquido de la mezcla benceno - tolueno.\n",
        "\n",
        "v1 = 95.84\n",
        "v2 = 118.3\n",
        "o1 = 28.2\n",
        "o2 = 27.9\n",
        "n1 = 0.601\n",
        "n2 = 0.553\n",
        "\n",
        "P1 = 220.86\n",
        "P2 = 271.89\n",
        "\n",
        "#El coeficientes dela solucion ideal son\n",
        "inD12 = 8.93 * 10**(-8) * v2**(-1/3) * v1**(1/6) * (v2/v1)**(0.6) * (o2/o1)**(0.15) * 298 * n2**(-1)\n",
        "inD21 = 8.93 * 10**(-8) * v1**(-1/3) * v2**(1/6) * (v1/v2)**(0.6) * (o1/o2)**(0.15) * 298 * n1**(-1)\n",
        "print(\"Los coeficientes de la solucion ideal es: \", \"\\nD12=\", inD12,  \"cm^2/s \\nD21=\", inD21, \"cm^2/s\")\n",
        "\n",
        "#El resultado es\n",
        "D12 = (inD12 * 10**(-5))**(0.4) * (inD21 * 10**(-5))**(0.6)\n",
        "print(\"\\nEl resultado es: \", D12, \"cm^2/s\")"
      ],
      "metadata": {
        "id": "LmKTaYLybWVy",
        "colab": {
          "base_uri": "https://localhost:8080/"
        },
        "outputId": "ba8fe14d-eb58-4e0f-df3d-e05bc14ef168"
      },
      "execution_count": null,
      "outputs": [
        {
          "output_type": "stream",
          "name": "stdout",
          "text": [
            "Los coeficientes de la solucion ideal es:  \n",
            "D12= 2.375590093882194e-05 cm^2/s \n",
            "D21= 1.892383177627771e-05 cm^2/s\n",
            "\n",
            "El resultado es:  2.0725931071520635e-10 cm^2/s\n"
          ]
        }
      ]
    }
  ]
}