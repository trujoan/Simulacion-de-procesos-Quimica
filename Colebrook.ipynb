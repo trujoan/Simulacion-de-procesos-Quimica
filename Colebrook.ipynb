{
  "nbformat": 4,
  "nbformat_minor": 0,
  "metadata": {
    "colab": {
      "provenance": [],
      "authorship_tag": "ABX9TyOSWtl8kp5JNgwnWQF3qmWa",
      "include_colab_link": true
    },
    "kernelspec": {
      "name": "python3",
      "display_name": "Python 3"
    },
    "language_info": {
      "name": "python"
    }
  },
  "cells": [
    {
      "cell_type": "markdown",
      "metadata": {
        "id": "view-in-github",
        "colab_type": "text"
      },
      "source": [
        "<a href=\"https://colab.research.google.com/github/trujoan/Simulacion-de-procesos-Quimica/blob/main/Colebrook.ipynb\" target=\"_parent\"><img src=\"https://colab.research.google.com/assets/colab-badge.svg\" alt=\"Open In Colab\"/></a>"
      ]
    },
    {
      "cell_type": "code",
      "execution_count": null,
      "metadata": {
        "colab": {
          "base_uri": "https://localhost:8080/"
        },
        "id": "ySwK99QR3awe",
        "outputId": "55d5c753-5a2a-4f7c-bfe2-2bea41c5d17b"
      },
      "outputs": [
        {
          "output_type": "stream",
          "name": "stdout",
          "text": [
            "[0.02062567]\n"
          ]
        }
      ],
      "source": [
        "import numpy as np\n",
        "import scipy.optimize\n",
        "\n",
        "def Colebrook(fD):\n",
        "  epsilon = 0.00015\n",
        "  D = 0.17225\n",
        "  Nre = 184000\n",
        "  Colebrook = 1/(fD**0.5)+0.86858*np.log((epsilon/D)/3.7+2.5/(Nre*(fD**0.5)))\n",
        "  return Colebrook\n",
        "\n",
        "root = scipy.optimize.fsolve(Colebrook,0.01)\n",
        "print (root)"
      ]
    },
    {
      "cell_type": "code",
      "source": [],
      "metadata": {
        "id": "2rA6OxXD8I5g"
      },
      "execution_count": null,
      "outputs": []
    }
  ]
}